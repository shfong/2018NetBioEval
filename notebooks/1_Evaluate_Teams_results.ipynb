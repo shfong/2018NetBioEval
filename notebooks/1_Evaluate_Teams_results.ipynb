{
 "cells": [
  {
   "cell_type": "markdown",
   "metadata": {},
   "source": [
    "This notebook creates the results and figures for \"Strategies for Network GWAS Evaluated using Classroom Crowd Science\"."
   ]
  },
  {
   "cell_type": "code",
   "execution_count": 1,
   "metadata": {},
   "outputs": [],
   "source": [
    "from collections import namedtuple\n",
    "import seaborn as sns\n",
    "import glob\n",
    "import matplotlib as mpl\n",
    "import matplotlib.pyplot as plt\n",
    "import numpy as np\n",
    "import os\n",
    "import pandas as pd\n",
    "from scipy.stats import hypergeom, spearmanr\n",
    "from textwrap import wrap\n",
    "\n",
    "mpl.rcParams['pdf.fonttype'] = 42"
   ]
  },
  {
   "cell_type": "markdown",
   "metadata": {},
   "source": [
    "# Function definitions"
   ]
  },
  {
   "cell_type": "code",
   "execution_count": 2,
   "metadata": {},
   "outputs": [],
   "source": [
    "def load_gold_standards(path = '../data/raw/gold_standards'): \n",
    "    \"\"\"Loads Gold standard gene lists\"\"\"\n",
    "    \n",
    "    Gold = namedtuple('Standard', ['sz_hugo', 'sz2', 'bip'])\n",
    "    \n",
    "    sz_hugo = read_column_file(os.path.join(path, 'SZ_hugo_genes_only.txt'))\n",
    "    sz2 = read_gold_standard(os.path.join(path, 'scz2_gene_10k.txt'))\n",
    "    bip = read_gold_standard(os.path.join(path, 'bip_gene_10k.txt'))\n",
    "    \n",
    "    return Gold(sz_hugo, sz2, bip)\n",
    "\n",
    "def read_gold_standard(fn): \n",
    "    \"\"\"Helper function to load gold standards as DataFrames\"\"\"\n",
    "    df = pd.read_csv(fn, index_col=0, sep='\\t')\n",
    "    df.index = df['Gene']\n",
    "    df_dict = df['TopSNP P-Value'].to_dict()\n",
    "    \n",
    "    return df_dict\n",
    "\n",
    "def read_column_file(fn): \n",
    "    \"\"\"Reads a single column file\"\"\"\n",
    "    return pd.read_csv(fn, header=None).values.ravel()\n",
    "\n",
    "def read_files(filesList, names=None, top=1000): \n",
    "    \"\"\"Wrapper function to read a list of files\"\"\"\n",
    "    if names is None: \n",
    "        names = [os.path.basename(f).split('.')[0].split('team')[1] for f in filesList]\n",
    "    \n",
    "    return dict(zip(names, [read_column_file(f)[:top] for f in filesList]))"
   ]
  },
  {
   "cell_type": "code",
   "execution_count": 3,
   "metadata": {},
   "outputs": [],
   "source": [
    "def run_hypergeom(test, gold, top=100):\n",
    "    \"\"\"Performs hypergeometric test against a gold standard\"\"\"\n",
    "    intersect = set(test).intersection(set(gold))\n",
    "    \n",
    "    score = len(intersect)\n",
    "    M, n, N = 20000, len(gold), top\n",
    "    \n",
    "    pvalue = 1 - hypergeom.cdf(score, M, n, N)\n",
    "    \n",
    "    Hypergeom = namedtuple('Hypergeom', ['pvalue', 'n_intersect', 'common_items'])\n",
    "    \n",
    "    return Hypergeom(pvalue, score, intersect)\n",
    "\n",
    "def check_significance(test, gold, threshold=0.05):\n",
    "    \"\"\"Compares with GWAS sginificance\"\"\"\n",
    "    \n",
    "    significant_gene_set = [k for k,v in gold.items() if v < threshold]\n",
    "    \n",
    "    return run_hypergeom(test, significant_gene_set, top=len(test))\n",
    "    "
   ]
  },
  {
   "cell_type": "code",
   "execution_count": 4,
   "metadata": {},
   "outputs": [],
   "source": [
    "def evaluate_all(top=100, \n",
    "    genes_lists_paths=[\"../data/teams_submissions/\"], \n",
    "    gold_standard_path=\"../data/gold_standards\"\n",
    "): \n",
    "    \"\"\"Wrapper function to evaluate all submitted gene lists\"\"\"\n",
    "    \n",
    "    genes_lists_map = {}\n",
    "    for path in genes_lists_paths: \n",
    "        genes_lists_map.update(read_files(glob.glob(os.path.join(path, \"*\")), top=top))\n",
    "    \n",
    "    gwas = pd.Series(read_gold_standard(os.path.join(gold_standard_path, 'original_sz_gwas.txt')))\n",
    "    gwas_genes = gwas.sort_values()[:top].index\n",
    "    \n",
    "    genes_lists_map['BL'] = gwas_genes\n",
    "    \n",
    "    GoldStandard = load_gold_standards(path=gold_standard_path)\n",
    "    \n",
    "    results_df = pd.DataFrame([], columns=['Literature Set', 'SZ GWAS', 'BIP GWAS', 'Literature p-value', 'SZ p-value', 'BIP p-value'])\n",
    "    for name, team in genes_lists_map.items(): \n",
    "        sz = run_hypergeom(team, GoldStandard.sz_hugo)\n",
    "        bip = check_significance(team, GoldStandard.bip, threshold=0.05/len(team))\n",
    "        sz2 = check_significance(team, GoldStandard.sz2, threshold=0.05/len(team))\n",
    "\n",
    "        results_df.loc[name] = [sz.n_intersect, sz2.n_intersect, bip.n_intersect, sz.pvalue, sz2.pvalue, bip.pvalue]\n",
    "        \n",
    "    return results_df"
   ]
  },
  {
   "cell_type": "code",
   "execution_count": 5,
   "metadata": {},
   "outputs": [],
   "source": [
    "standings = evaluate_all(top=100)\n",
    "standings = standings.sort_values(by='Literature Set', ascending=False)"
   ]
  },
  {
   "cell_type": "code",
   "execution_count": 6,
   "metadata": {},
   "outputs": [
    {
     "data": {
      "text/html": [
       "<div>\n",
       "<style scoped>\n",
       "    .dataframe tbody tr th:only-of-type {\n",
       "        vertical-align: middle;\n",
       "    }\n",
       "\n",
       "    .dataframe tbody tr th {\n",
       "        vertical-align: top;\n",
       "    }\n",
       "\n",
       "    .dataframe thead th {\n",
       "        text-align: right;\n",
       "    }\n",
       "</style>\n",
       "<table border=\"1\" class=\"dataframe\">\n",
       "  <thead>\n",
       "    <tr style=\"text-align: right;\">\n",
       "      <th></th>\n",
       "      <th>Literature Set</th>\n",
       "      <th>SZ GWAS</th>\n",
       "      <th>BIP GWAS</th>\n",
       "      <th>Literature p-value</th>\n",
       "      <th>SZ p-value</th>\n",
       "      <th>BIP p-value</th>\n",
       "    </tr>\n",
       "  </thead>\n",
       "  <tbody>\n",
       "    <tr>\n",
       "      <th>A</th>\n",
       "      <td>33.0</td>\n",
       "      <td>30.0</td>\n",
       "      <td>1.0</td>\n",
       "      <td>0.000000e+00</td>\n",
       "      <td>1.638107e-06</td>\n",
       "      <td>5.277686e-01</td>\n",
       "    </tr>\n",
       "    <tr>\n",
       "      <th>B</th>\n",
       "      <td>29.0</td>\n",
       "      <td>37.0</td>\n",
       "      <td>2.0</td>\n",
       "      <td>0.000000e+00</td>\n",
       "      <td>1.762380e-10</td>\n",
       "      <td>2.579407e-01</td>\n",
       "    </tr>\n",
       "    <tr>\n",
       "      <th>D</th>\n",
       "      <td>20.0</td>\n",
       "      <td>32.0</td>\n",
       "      <td>3.0</td>\n",
       "      <td>1.875200e-07</td>\n",
       "      <td>1.501731e-07</td>\n",
       "      <td>1.001465e-01</td>\n",
       "    </tr>\n",
       "    <tr>\n",
       "      <th>E</th>\n",
       "      <td>18.0</td>\n",
       "      <td>55.0</td>\n",
       "      <td>12.0</td>\n",
       "      <td>3.488472e-06</td>\n",
       "      <td>0.000000e+00</td>\n",
       "      <td>2.231890e-08</td>\n",
       "    </tr>\n",
       "    <tr>\n",
       "      <th>F</th>\n",
       "      <td>16.0</td>\n",
       "      <td>62.0</td>\n",
       "      <td>15.0</td>\n",
       "      <td>5.056406e-05</td>\n",
       "      <td>0.000000e+00</td>\n",
       "      <td>0.000000e+00</td>\n",
       "    </tr>\n",
       "    <tr>\n",
       "      <th>G</th>\n",
       "      <td>15.0</td>\n",
       "      <td>27.0</td>\n",
       "      <td>1.0</td>\n",
       "      <td>1.743231e-04</td>\n",
       "      <td>4.203179e-05</td>\n",
       "      <td>5.277686e-01</td>\n",
       "    </tr>\n",
       "    <tr>\n",
       "      <th>H</th>\n",
       "      <td>11.0</td>\n",
       "      <td>48.0</td>\n",
       "      <td>8.0</td>\n",
       "      <td>1.190759e-02</td>\n",
       "      <td>0.000000e+00</td>\n",
       "      <td>6.813184e-05</td>\n",
       "    </tr>\n",
       "    <tr>\n",
       "      <th>I</th>\n",
       "      <td>10.0</td>\n",
       "      <td>70.0</td>\n",
       "      <td>14.0</td>\n",
       "      <td>2.807507e-02</td>\n",
       "      <td>0.000000e+00</td>\n",
       "      <td>2.117874e-10</td>\n",
       "    </tr>\n",
       "    <tr>\n",
       "      <th>BL</th>\n",
       "      <td>9.0</td>\n",
       "      <td>71.0</td>\n",
       "      <td>16.0</td>\n",
       "      <td>6.068557e-02</td>\n",
       "      <td>0.000000e+00</td>\n",
       "      <td>0.000000e+00</td>\n",
       "    </tr>\n",
       "    <tr>\n",
       "      <th>C</th>\n",
       "      <td>8.0</td>\n",
       "      <td>69.0</td>\n",
       "      <td>12.0</td>\n",
       "      <td>1.197704e-01</td>\n",
       "      <td>0.000000e+00</td>\n",
       "      <td>2.231890e-08</td>\n",
       "    </tr>\n",
       "    <tr>\n",
       "      <th>J</th>\n",
       "      <td>0.0</td>\n",
       "      <td>11.0</td>\n",
       "      <td>2.0</td>\n",
       "      <td>9.973178e-01</td>\n",
       "      <td>6.463934e-01</td>\n",
       "      <td>2.579407e-01</td>\n",
       "    </tr>\n",
       "  </tbody>\n",
       "</table>\n",
       "</div>"
      ],
      "text/plain": [
       "    Literature Set  SZ GWAS  BIP GWAS  Literature p-value    SZ p-value  \\\n",
       "A             33.0     30.0       1.0        0.000000e+00  1.638107e-06   \n",
       "B             29.0     37.0       2.0        0.000000e+00  1.762380e-10   \n",
       "D             20.0     32.0       3.0        1.875200e-07  1.501731e-07   \n",
       "E             18.0     55.0      12.0        3.488472e-06  0.000000e+00   \n",
       "F             16.0     62.0      15.0        5.056406e-05  0.000000e+00   \n",
       "G             15.0     27.0       1.0        1.743231e-04  4.203179e-05   \n",
       "H             11.0     48.0       8.0        1.190759e-02  0.000000e+00   \n",
       "I             10.0     70.0      14.0        2.807507e-02  0.000000e+00   \n",
       "BL             9.0     71.0      16.0        6.068557e-02  0.000000e+00   \n",
       "C              8.0     69.0      12.0        1.197704e-01  0.000000e+00   \n",
       "J              0.0     11.0       2.0        9.973178e-01  6.463934e-01   \n",
       "\n",
       "     BIP p-value  \n",
       "A   5.277686e-01  \n",
       "B   2.579407e-01  \n",
       "D   1.001465e-01  \n",
       "E   2.231890e-08  \n",
       "F   0.000000e+00  \n",
       "G   5.277686e-01  \n",
       "H   6.813184e-05  \n",
       "I   2.117874e-10  \n",
       "BL  0.000000e+00  \n",
       "C   2.231890e-08  \n",
       "J   2.579407e-01  "
      ]
     },
     "execution_count": 6,
     "metadata": {},
     "output_type": "execute_result"
    }
   ],
   "source": [
    "standings"
   ]
  },
  {
   "cell_type": "markdown",
   "metadata": {},
   "source": [
    "# Figures"
   ]
  },
  {
   "cell_type": "code",
   "execution_count": 7,
   "metadata": {},
   "outputs": [
    {
     "data": {
      "image/png": "[encoded data removed]",
      "text/plain": [
       "<Figure size 1152x864 with 4 Axes>"
      ]
     },
     "metadata": {},
     "output_type": "display_data"
    }
   ],
   "source": [
    "fig, axs = plt.subplots(2,2, figsize=(16, 12))\n",
    "ax1, ax3 = axs[:, 0]\n",
    "ax2, ax4 = axs[:, 1]"
   ]
  },
  {
   "cell_type": "markdown",
   "metadata": {},
   "source": [
    "# Figure 2A"
   ]
  },
  {
   "cell_type": "code",
   "execution_count": 8,
   "metadata": {},
   "outputs": [],
   "source": [
    "tmp = standings['Literature Set']\n",
    "x = tmp.index\n",
    "y = tmp.values\n",
    "\n",
    "ax1.bar(np.arange(len(y)), y, color='#4178BC')\n",
    "ax1.spines['right'].set_visible(False)\n",
    "ax1.spines['top'].set_visible(False)\n",
    "\n",
    "_ = ax1.xaxis.set_ticks(np.arange(len(y)))\n",
    "_ = ax1.set_xticklabels(x)\n",
    "_ = ax1.set_xlabel('Teams')\n",
    "_ = ax1.set_ylabel('Overlap with Schizophrenia Genes')\n",
    "\n",
    "# Add stars for signifiance\n",
    "for ind, i in enumerate(x): \n",
    "    if standings.loc[i, 'Literature p-value'] < 0.05: \n",
    "        ax1.text(ind, standings.loc[i, 'Literature Set'] + 0.5, '*', ha='center', fontsize=20)"
   ]
  },
  {
   "cell_type": "markdown",
   "metadata": {},
   "source": [
    "# Figure 2B"
   ]
  },
  {
   "cell_type": "code",
   "execution_count": 9,
   "metadata": {},
   "outputs": [
    {
     "data": {
      "text/plain": [
       "<Figure size 432x288 with 0 Axes>"
      ]
     },
     "metadata": {},
     "output_type": "display_data"
    }
   ],
   "source": [
    "tmp = standings[['SZ GWAS', 'BIP GWAS']]\n",
    "tmp.columns = ['Schizophrenia GWAS', 'Bipolar GWAS']\n",
    "tidy_df = tmp.reset_index().melt(id_vars=['index'])\n",
    "\n",
    "team_order = standings.sort_values(by='SZ GWAS', ascending=False).index\n",
    "\n",
    "g = sns.barplot(data=tidy_df, \n",
    "            x='index', \n",
    "            y='value', \n",
    "            hue='variable', \n",
    "            order=team_order, \n",
    "            palette = {'Schizophrenia GWAS': '#4178BC', 'Bipolar GWAS': '#37A862'}, \n",
    "            ax = ax2\n",
    ")\n",
    "\n",
    "sns.despine()\n",
    "\n",
    "_ = ax2.set_xlabel('Teams')\n",
    "_ = ax2.set_ylabel('Overlap with Validation GWAS')\n",
    "\n",
    "# Add stars for signifiance\n",
    "for ind, i in enumerate(team_order): \n",
    "    if standings.loc[i, 'SZ p-value'] < 0.05: \n",
    "        ax2.text(ind-0.21, standings.loc[i, 'SZ GWAS'] + 0.5, '*', ha='center', fontsize=20)\n",
    " \n",
    "    if standings.loc[i, 'BIP p-value'] < 0.05: \n",
    "        ax2.text(ind + 0.17, standings.loc[i, 'BIP GWAS'] + 0.5, '*', ha='center', fontsize=20)    \n",
    "        \n",
    "ax2.spines['right'].set_visible(False)\n",
    "ax2.spines['top'].set_visible(False)\n",
    "\n",
    "#fig.savefig('../figures/Figure_2B.pdf',bbox_inches=\"tight\", transparent=True)"
   ]
  },
  {
   "cell_type": "markdown",
   "metadata": {},
   "source": [
    "# Figure 2C"
   ]
  },
  {
   "cell_type": "code",
   "execution_count": 10,
   "metadata": {},
   "outputs": [
    {
     "data": {
      "image/png": "[encoded data removed]",
      "text/plain": [
       "<Figure size 432x288 with 1 Axes>"
      ]
     },
     "metadata": {},
     "output_type": "display_data"
    }
   ],
   "source": [
    "#sns.set_style('ticks')\n",
    "\n",
    "#fig, ax3 = plt.subplots()\n",
    "#fig.set_size_inches(12, 8)\n",
    "#fig.tight_layout()\n",
    "#sns.set(font_scale=2)\n",
    "\n",
    "g = sns.regplot(data=standings, \n",
    "            y='Literature Set', \n",
    "            x='SZ GWAS', \n",
    "            fit_reg=False, \n",
    "            ci=None, \n",
    "            scatter_kws={\"s\":100, \"color\":'#4178BC'}, \n",
    "            ax=ax3, \n",
    ")\n",
    "\n",
    "for ind, row in standings.iterrows(): \n",
    "    ax3.text(row['SZ GWAS'] + 0.85, row['Literature Set'] + 0.8, ind, fontsize=16)\n",
    "\n",
    "ax3.set_ylabel('Overlap with Schizophrenia Genes')\n",
    "ax3.set_xlabel('Overlap with Validation Schizophrenia GWAS')\n",
    "\n",
    "stat = spearmanr(standings['Literature Set'], standings['SZ GWAS'])\n",
    "\n",
    "ax3.text(0.05,0.95, r'$\\rho$ = %s' % '{:4.2f}'.format(stat.correlation) + '\\n' + 'p = %s' % '{:5.3f}'.format(stat.pvalue), \n",
    "        horizontalalignment='left', \n",
    "        verticalalignment='center', \n",
    "        transform=ax3.transAxes, \n",
    "        fontsize=16)\n",
    "\n",
    "ax3.spines['right'].set_visible(False)\n",
    "ax3.spines['top'].set_visible(False)\n",
    "\n",
    "#fig.savefig('../figures/Figure_2C.pdf', dpi=300, bbox_inches=\"tight\", transparent=True)"
   ]
  },
  {
   "cell_type": "markdown",
   "metadata": {},
   "source": [
    "# Figure 2D"
   ]
  },
  {
   "cell_type": "code",
   "execution_count": 11,
   "metadata": {},
   "outputs": [
    {
     "data": {
      "image/png": "[encoded data removed]",
      "text/plain": [
       "<Figure size 432x288 with 1 Axes>"
      ]
     },
     "metadata": {},
     "output_type": "display_data"
    }
   ],
   "source": [
    "g = sns.regplot(data=standings, \n",
    "            y='BIP GWAS', \n",
    "            x='SZ GWAS', \n",
    "            fit_reg=False, \n",
    "            ci=None, \n",
    "            scatter_kws={\"s\":100, \"color\":'#4178BC'}, \n",
    "            ax=ax4, \n",
    ")\n",
    "\n",
    "for ind, row in standings.iterrows(): \n",
    "    ax4.text(row['SZ GWAS'] + 0.5, row['BIP GWAS'] + 0.5, ind, fontsize=20)\n",
    "\n",
    "ax4.set_ylabel('Overlap with Validation Bipolar GWAS')\n",
    "ax4.set_xlabel('Overlap with Validation Schizophrenia GWAS')\n",
    "\n",
    "stat = spearmanr(standings['BIP GWAS'], standings['SZ GWAS'])\n",
    "\n",
    "ax4.text(0.05,0.95, r'$\\rho$ = %s' % '{:4.2f}'.format(stat.correlation) + '\\n' + 'p = %s' % '{:5.3f}'.format(stat.pvalue), \n",
    "        horizontalalignment='left', \n",
    "        verticalalignment='center', \n",
    "        transform=ax4.transAxes, \n",
    "        fontsize=16)\n",
    "\n",
    "ax4.spines['right'].set_visible(False)\n",
    "ax4.spines['top'].set_visible(False)\n",
    "\n",
    "#fig.savefig('../figures/Figure_2D.pdf', dpi=300, bbox_inches=\"tight\", transparent=True)"
   ]
  },
  {
   "cell_type": "code",
   "execution_count": 12,
   "metadata": {},
   "outputs": [
    {
     "data": {
      "image/png": "[encoded data removed]",
      "text/plain": [
       "<Figure size 1152x864 with 4 Axes>"
      ]
     },
     "execution_count": 12,
     "metadata": {},
     "output_type": "execute_result"
    }
   ],
   "source": [
    "fig"
   ]
  },
  {
   "cell_type": "code",
   "execution_count": 13,
   "metadata": {},
   "outputs": [],
   "source": [
    "fig.savefig('../figures/Figure_2.pdf', dpi=300, bbox_inches=\"tight\", transparent=True)"
   ]
  }
 ],
 "metadata": {
  "kernelspec": {
   "display_name": "Python 3",
   "language": "python",
   "name": "python3"
  },
  "language_info": {
   "codemirror_mode": {
    "name": "ipython",
    "version": 3
   },
   "file_extension": ".py",
   "mimetype": "text/x-python",
   "name": "python",
   "nbconvert_exporter": "python",
   "pygments_lexer": "ipython3",
   "version": "3.6.5"
  }
 },
 "nbformat": 4,
 "nbformat_minor": 2
}
